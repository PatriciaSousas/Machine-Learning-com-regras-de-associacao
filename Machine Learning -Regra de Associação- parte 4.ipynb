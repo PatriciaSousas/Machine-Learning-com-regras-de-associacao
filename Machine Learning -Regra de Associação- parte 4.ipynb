{
 "cells": [
  {
   "cell_type": "markdown",
   "id": "93afecd2",
   "metadata": {},
   "source": [
    "# Bibliotecas"
   ]
  },
  {
   "cell_type": "code",
   "execution_count": 2,
   "id": "0d4b1678",
   "metadata": {},
   "outputs": [],
   "source": [
    "import pandas as pd\n",
    "import matplotlib.pyplot as plt\n",
    "import seaborn as sns\n",
    "import numpy as np"
   ]
  },
  {
   "cell_type": "code",
   "execution_count": null,
   "id": "260abc61",
   "metadata": {},
   "outputs": [],
   "source": []
  },
  {
   "cell_type": "markdown",
   "id": "1d196342",
   "metadata": {},
   "source": [
    "## Carregamento dos dados"
   ]
  },
  {
   "cell_type": "code",
   "execution_count": 3,
   "id": "f3e49058",
   "metadata": {},
   "outputs": [
    {
     "data": {
      "text/html": [
       "<div>\n",
       "<style scoped>\n",
       "    .dataframe tbody tr th:only-of-type {\n",
       "        vertical-align: middle;\n",
       "    }\n",
       "\n",
       "    .dataframe tbody tr th {\n",
       "        vertical-align: top;\n",
       "    }\n",
       "\n",
       "    .dataframe thead th {\n",
       "        text-align: right;\n",
       "    }\n",
       "</style>\n",
       "<table border=\"1\" class=\"dataframe\">\n",
       "  <thead>\n",
       "    <tr style=\"text-align: right;\">\n",
       "      <th></th>\n",
       "      <th>TransactionNo</th>\n",
       "      <th>Items</th>\n",
       "      <th>DateTime</th>\n",
       "      <th>Daypart</th>\n",
       "      <th>DayType</th>\n",
       "    </tr>\n",
       "  </thead>\n",
       "  <tbody>\n",
       "    <tr>\n",
       "      <th>0</th>\n",
       "      <td>1</td>\n",
       "      <td>Bread</td>\n",
       "      <td>2016-10-30 09:58:11</td>\n",
       "      <td>Morning</td>\n",
       "      <td>Weekend</td>\n",
       "    </tr>\n",
       "    <tr>\n",
       "      <th>1</th>\n",
       "      <td>2</td>\n",
       "      <td>Scandinavian</td>\n",
       "      <td>2016-10-30 10:05:34</td>\n",
       "      <td>Morning</td>\n",
       "      <td>Weekend</td>\n",
       "    </tr>\n",
       "    <tr>\n",
       "      <th>2</th>\n",
       "      <td>2</td>\n",
       "      <td>Scandinavian</td>\n",
       "      <td>2016-10-30 10:05:34</td>\n",
       "      <td>Morning</td>\n",
       "      <td>Weekend</td>\n",
       "    </tr>\n",
       "    <tr>\n",
       "      <th>3</th>\n",
       "      <td>3</td>\n",
       "      <td>Hot chocolate</td>\n",
       "      <td>2016-10-30 10:07:57</td>\n",
       "      <td>Morning</td>\n",
       "      <td>Weekend</td>\n",
       "    </tr>\n",
       "    <tr>\n",
       "      <th>4</th>\n",
       "      <td>3</td>\n",
       "      <td>Jam</td>\n",
       "      <td>2016-10-30 10:07:57</td>\n",
       "      <td>Morning</td>\n",
       "      <td>Weekend</td>\n",
       "    </tr>\n",
       "    <tr>\n",
       "      <th>...</th>\n",
       "      <td>...</td>\n",
       "      <td>...</td>\n",
       "      <td>...</td>\n",
       "      <td>...</td>\n",
       "      <td>...</td>\n",
       "    </tr>\n",
       "    <tr>\n",
       "      <th>20502</th>\n",
       "      <td>9682</td>\n",
       "      <td>Coffee</td>\n",
       "      <td>2017-09-04 14:32:58</td>\n",
       "      <td>Afternoon</td>\n",
       "      <td>Weekend</td>\n",
       "    </tr>\n",
       "    <tr>\n",
       "      <th>20503</th>\n",
       "      <td>9682</td>\n",
       "      <td>Tea</td>\n",
       "      <td>2017-09-04 14:32:58</td>\n",
       "      <td>Afternoon</td>\n",
       "      <td>Weekend</td>\n",
       "    </tr>\n",
       "    <tr>\n",
       "      <th>20504</th>\n",
       "      <td>9683</td>\n",
       "      <td>Coffee</td>\n",
       "      <td>2017-09-04 14:57:06</td>\n",
       "      <td>Afternoon</td>\n",
       "      <td>Weekend</td>\n",
       "    </tr>\n",
       "    <tr>\n",
       "      <th>20505</th>\n",
       "      <td>9683</td>\n",
       "      <td>Pastry</td>\n",
       "      <td>2017-09-04 14:57:06</td>\n",
       "      <td>Afternoon</td>\n",
       "      <td>Weekend</td>\n",
       "    </tr>\n",
       "    <tr>\n",
       "      <th>20506</th>\n",
       "      <td>9684</td>\n",
       "      <td>Smoothies</td>\n",
       "      <td>2017-09-04 15:04:24</td>\n",
       "      <td>Afternoon</td>\n",
       "      <td>Weekend</td>\n",
       "    </tr>\n",
       "  </tbody>\n",
       "</table>\n",
       "<p>20507 rows × 5 columns</p>\n",
       "</div>"
      ],
      "text/plain": [
       "       TransactionNo          Items             DateTime    Daypart  DayType\n",
       "0                  1          Bread  2016-10-30 09:58:11    Morning  Weekend\n",
       "1                  2   Scandinavian  2016-10-30 10:05:34    Morning  Weekend\n",
       "2                  2   Scandinavian  2016-10-30 10:05:34    Morning  Weekend\n",
       "3                  3  Hot chocolate  2016-10-30 10:07:57    Morning  Weekend\n",
       "4                  3            Jam  2016-10-30 10:07:57    Morning  Weekend\n",
       "...              ...            ...                  ...        ...      ...\n",
       "20502           9682         Coffee  2017-09-04 14:32:58  Afternoon  Weekend\n",
       "20503           9682            Tea  2017-09-04 14:32:58  Afternoon  Weekend\n",
       "20504           9683         Coffee  2017-09-04 14:57:06  Afternoon  Weekend\n",
       "20505           9683         Pastry  2017-09-04 14:57:06  Afternoon  Weekend\n",
       "20506           9684      Smoothies  2017-09-04 15:04:24  Afternoon  Weekend\n",
       "\n",
       "[20507 rows x 5 columns]"
      ]
     },
     "execution_count": 3,
     "metadata": {},
     "output_type": "execute_result"
    }
   ],
   "source": [
    "dados = pd.read_csv('dados-padaria.csv')\n",
    "dados"
   ]
  },
  {
   "cell_type": "markdown",
   "id": "0c612910",
   "metadata": {},
   "source": [
    "## Análise exploratoria e tratamento dos dados"
   ]
  },
  {
   "cell_type": "code",
   "execution_count": 5,
   "id": "ac838f59",
   "metadata": {},
   "outputs": [
    {
     "name": "stdout",
     "output_type": "stream",
     "text": [
      "<class 'pandas.core.frame.DataFrame'>\n",
      "RangeIndex: 20507 entries, 0 to 20506\n",
      "Data columns (total 5 columns):\n",
      " #   Column         Non-Null Count  Dtype \n",
      "---  ------         --------------  ----- \n",
      " 0   TransactionNo  20507 non-null  int64 \n",
      " 1   Items          20507 non-null  object\n",
      " 2   DateTime       20507 non-null  object\n",
      " 3   Daypart        20507 non-null  object\n",
      " 4   DayType        20507 non-null  object\n",
      "dtypes: int64(1), object(4)\n",
      "memory usage: 801.2+ KB\n"
     ]
    }
   ],
   "source": [
    "#dataset com 5 colunas e quase 21 linhas\n",
    "dados.info()"
   ]
  },
  {
   "cell_type": "code",
   "execution_count": 6,
   "id": "f002d8f1",
   "metadata": {},
   "outputs": [],
   "source": [
    "#vou fazer um tratamento para isolar apenas os id de transações unicas\n",
    "#isso é necessario porque as vezes mais de 1 item é vendido na transação \n",
    "# e a ideia é isolar o que foi vendido em cada transacao\n",
    "\n",
    "transacao = []\n",
    "\n",
    "for item in dados['TransactionNo'].unique():\n",
    "    lista= list(set(dados[dados['TransactionNo'] == item]['Items']))\n",
    "    transacao.append(lista)"
   ]
  },
  {
   "cell_type": "code",
   "execution_count": 7,
   "id": "bce8b84c",
   "metadata": {},
   "outputs": [
    {
     "data": {
      "text/plain": [
       "[['Bread'],\n",
       " ['Scandinavian'],\n",
       " ['Jam', 'Cookies', 'Hot chocolate'],\n",
       " ['Muffin'],\n",
       " ['Bread', 'Pastry', 'Coffee']]"
      ]
     },
     "execution_count": 7,
     "metadata": {},
     "output_type": "execute_result"
    }
   ],
   "source": [
    "#primeiras 5 linhas \n",
    "transacao [0:5]"
   ]
  },
  {
   "cell_type": "code",
   "execution_count": 8,
   "id": "9dc90bd2",
   "metadata": {},
   "outputs": [
    {
     "name": "stdout",
     "output_type": "stream",
     "text": [
      "Requirement already satisfied: mlxtend in c:\\users\\patricia.sousa\\anaconda4\\lib\\site-packages (0.21.0)\n",
      "Requirement already satisfied: joblib>=0.13.2 in c:\\users\\patricia.sousa\\anaconda4\\lib\\site-packages (from mlxtend) (1.2.0)\n",
      "Requirement already satisfied: scipy>=1.2.1 in c:\\users\\patricia.sousa\\anaconda4\\lib\\site-packages (from mlxtend) (1.7.3)\n",
      "Requirement already satisfied: numpy>=1.16.2 in c:\\users\\patricia.sousa\\anaconda4\\lib\\site-packages (from mlxtend) (1.21.5)\n",
      "Requirement already satisfied: matplotlib>=3.0.0 in c:\\users\\patricia.sousa\\anaconda4\\lib\\site-packages (from mlxtend) (3.5.1)\n",
      "Requirement already satisfied: setuptools in c:\\users\\patricia.sousa\\anaconda4\\lib\\site-packages (from mlxtend) (61.2.0)\n",
      "Requirement already satisfied: scikit-learn>=1.0.2 in c:\\users\\patricia.sousa\\anaconda4\\lib\\site-packages (from mlxtend) (1.2.1)\n",
      "Requirement already satisfied: pandas>=0.24.2 in c:\\users\\patricia.sousa\\anaconda4\\lib\\site-packages (from mlxtend) (1.4.2)\n",
      "Requirement already satisfied: pyparsing>=2.2.1 in c:\\users\\patricia.sousa\\anaconda4\\lib\\site-packages (from matplotlib>=3.0.0->mlxtend) (3.0.4)\n",
      "Requirement already satisfied: kiwisolver>=1.0.1 in c:\\users\\patricia.sousa\\anaconda4\\lib\\site-packages (from matplotlib>=3.0.0->mlxtend) (1.3.2)\n",
      "Requirement already satisfied: fonttools>=4.22.0 in c:\\users\\patricia.sousa\\anaconda4\\lib\\site-packages (from matplotlib>=3.0.0->mlxtend) (4.25.0)\n",
      "Requirement already satisfied: python-dateutil>=2.7 in c:\\users\\patricia.sousa\\anaconda4\\lib\\site-packages (from matplotlib>=3.0.0->mlxtend) (2.8.2)\n",
      "Requirement already satisfied: packaging>=20.0 in c:\\users\\patricia.sousa\\anaconda4\\lib\\site-packages (from matplotlib>=3.0.0->mlxtend) (21.3)\n",
      "Requirement already satisfied: cycler>=0.10 in c:\\users\\patricia.sousa\\anaconda4\\lib\\site-packages (from matplotlib>=3.0.0->mlxtend) (0.11.0)\n",
      "Requirement already satisfied: pillow>=6.2.0 in c:\\users\\patricia.sousa\\anaconda4\\lib\\site-packages (from matplotlib>=3.0.0->mlxtend) (9.0.1)\n",
      "Requirement already satisfied: pytz>=2020.1 in c:\\users\\patricia.sousa\\anaconda4\\lib\\site-packages (from pandas>=0.24.2->mlxtend) (2021.3)\n",
      "Requirement already satisfied: six>=1.5 in c:\\users\\patricia.sousa\\anaconda4\\lib\\site-packages (from python-dateutil>=2.7->matplotlib>=3.0.0->mlxtend) (1.16.0)\n",
      "Requirement already satisfied: threadpoolctl>=2.0.0 in c:\\users\\patricia.sousa\\anaconda4\\lib\\site-packages (from scikit-learn>=1.0.2->mlxtend) (2.2.0)\n"
     ]
    }
   ],
   "source": [
    "#instalei e chamei a extensão mlxtend para fazer essa regra associativa\n",
    "# MLXTEND é uma biblioteca que cria extensões de aplicações de machine learning\n",
    "\n",
    "!pip install mlxtend"
   ]
  },
  {
   "cell_type": "markdown",
   "id": "6f53bca2",
   "metadata": {},
   "source": [
    "- ### Um tratamento necessario é converter as listas de itens em um dataframe com as transações que o ML possar processar, pois esse somente reconhece binario\n",
    "- ### TransctionEncoder() utiliza o one hot encoding para transformar os dados categoricos em valores boleanos"
   ]
  },
  {
   "cell_type": "code",
   "execution_count": 9,
   "id": "b638a284",
   "metadata": {},
   "outputs": [],
   "source": [
    "#carregamento da libs\n",
    "from mlxtend.preprocessing import TransactionEncoder"
   ]
  },
  {
   "cell_type": "code",
   "execution_count": 10,
   "id": "dd6b7140",
   "metadata": {},
   "outputs": [],
   "source": [
    "#chamo o instanciamento dessa biblioteca\n",
    "te= TransactionEncoder()"
   ]
  },
  {
   "cell_type": "code",
   "execution_count": 11,
   "id": "53334147",
   "metadata": {},
   "outputs": [],
   "source": [
    "#abro uma variavel para armazenar meus dados transformados\n",
    "transacao_te = te.fit(transacao).transform(transacao)"
   ]
  },
  {
   "cell_type": "code",
   "execution_count": 12,
   "id": "224481a3",
   "metadata": {},
   "outputs": [
    {
     "data": {
      "text/plain": [
       "array([[False, False, False, ..., False, False, False],\n",
       "       [False, False, False, ..., False, False, False],\n",
       "       [False, False, False, ..., False, False, False],\n",
       "       ...,\n",
       "       [False, False, False, ..., False, False, False],\n",
       "       [False, False, False, ..., False, False, False],\n",
       "       [False, False, False, ..., False, False, False]])"
      ]
     },
     "execution_count": 12,
     "metadata": {},
     "output_type": "execute_result"
    }
   ],
   "source": [
    "transacao_te"
   ]
  },
  {
   "cell_type": "code",
   "execution_count": 13,
   "id": "01892a7c",
   "metadata": {},
   "outputs": [
    {
     "data": {
      "text/html": [
       "<div>\n",
       "<style scoped>\n",
       "    .dataframe tbody tr th:only-of-type {\n",
       "        vertical-align: middle;\n",
       "    }\n",
       "\n",
       "    .dataframe tbody tr th {\n",
       "        vertical-align: top;\n",
       "    }\n",
       "\n",
       "    .dataframe thead th {\n",
       "        text-align: right;\n",
       "    }\n",
       "</style>\n",
       "<table border=\"1\" class=\"dataframe\">\n",
       "  <thead>\n",
       "    <tr style=\"text-align: right;\">\n",
       "      <th></th>\n",
       "      <th>Adjustment</th>\n",
       "      <th>Afternoon with the baker</th>\n",
       "      <th>Alfajores</th>\n",
       "      <th>Argentina Night</th>\n",
       "      <th>Art Tray</th>\n",
       "      <th>Bacon</th>\n",
       "      <th>Baguette</th>\n",
       "      <th>Bakewell</th>\n",
       "      <th>Bare Popcorn</th>\n",
       "      <th>Basket</th>\n",
       "      <th>...</th>\n",
       "      <th>The BART</th>\n",
       "      <th>The Nomad</th>\n",
       "      <th>Tiffin</th>\n",
       "      <th>Toast</th>\n",
       "      <th>Truffles</th>\n",
       "      <th>Tshirt</th>\n",
       "      <th>Valentine's card</th>\n",
       "      <th>Vegan Feast</th>\n",
       "      <th>Vegan mincepie</th>\n",
       "      <th>Victorian Sponge</th>\n",
       "    </tr>\n",
       "  </thead>\n",
       "  <tbody>\n",
       "    <tr>\n",
       "      <th>0</th>\n",
       "      <td>False</td>\n",
       "      <td>False</td>\n",
       "      <td>False</td>\n",
       "      <td>False</td>\n",
       "      <td>False</td>\n",
       "      <td>False</td>\n",
       "      <td>False</td>\n",
       "      <td>False</td>\n",
       "      <td>False</td>\n",
       "      <td>False</td>\n",
       "      <td>...</td>\n",
       "      <td>False</td>\n",
       "      <td>False</td>\n",
       "      <td>False</td>\n",
       "      <td>False</td>\n",
       "      <td>False</td>\n",
       "      <td>False</td>\n",
       "      <td>False</td>\n",
       "      <td>False</td>\n",
       "      <td>False</td>\n",
       "      <td>False</td>\n",
       "    </tr>\n",
       "    <tr>\n",
       "      <th>1</th>\n",
       "      <td>False</td>\n",
       "      <td>False</td>\n",
       "      <td>False</td>\n",
       "      <td>False</td>\n",
       "      <td>False</td>\n",
       "      <td>False</td>\n",
       "      <td>False</td>\n",
       "      <td>False</td>\n",
       "      <td>False</td>\n",
       "      <td>False</td>\n",
       "      <td>...</td>\n",
       "      <td>False</td>\n",
       "      <td>False</td>\n",
       "      <td>False</td>\n",
       "      <td>False</td>\n",
       "      <td>False</td>\n",
       "      <td>False</td>\n",
       "      <td>False</td>\n",
       "      <td>False</td>\n",
       "      <td>False</td>\n",
       "      <td>False</td>\n",
       "    </tr>\n",
       "    <tr>\n",
       "      <th>2</th>\n",
       "      <td>False</td>\n",
       "      <td>False</td>\n",
       "      <td>False</td>\n",
       "      <td>False</td>\n",
       "      <td>False</td>\n",
       "      <td>False</td>\n",
       "      <td>False</td>\n",
       "      <td>False</td>\n",
       "      <td>False</td>\n",
       "      <td>False</td>\n",
       "      <td>...</td>\n",
       "      <td>False</td>\n",
       "      <td>False</td>\n",
       "      <td>False</td>\n",
       "      <td>False</td>\n",
       "      <td>False</td>\n",
       "      <td>False</td>\n",
       "      <td>False</td>\n",
       "      <td>False</td>\n",
       "      <td>False</td>\n",
       "      <td>False</td>\n",
       "    </tr>\n",
       "    <tr>\n",
       "      <th>3</th>\n",
       "      <td>False</td>\n",
       "      <td>False</td>\n",
       "      <td>False</td>\n",
       "      <td>False</td>\n",
       "      <td>False</td>\n",
       "      <td>False</td>\n",
       "      <td>False</td>\n",
       "      <td>False</td>\n",
       "      <td>False</td>\n",
       "      <td>False</td>\n",
       "      <td>...</td>\n",
       "      <td>False</td>\n",
       "      <td>False</td>\n",
       "      <td>False</td>\n",
       "      <td>False</td>\n",
       "      <td>False</td>\n",
       "      <td>False</td>\n",
       "      <td>False</td>\n",
       "      <td>False</td>\n",
       "      <td>False</td>\n",
       "      <td>False</td>\n",
       "    </tr>\n",
       "    <tr>\n",
       "      <th>4</th>\n",
       "      <td>False</td>\n",
       "      <td>False</td>\n",
       "      <td>False</td>\n",
       "      <td>False</td>\n",
       "      <td>False</td>\n",
       "      <td>False</td>\n",
       "      <td>False</td>\n",
       "      <td>False</td>\n",
       "      <td>False</td>\n",
       "      <td>False</td>\n",
       "      <td>...</td>\n",
       "      <td>False</td>\n",
       "      <td>False</td>\n",
       "      <td>False</td>\n",
       "      <td>False</td>\n",
       "      <td>False</td>\n",
       "      <td>False</td>\n",
       "      <td>False</td>\n",
       "      <td>False</td>\n",
       "      <td>False</td>\n",
       "      <td>False</td>\n",
       "    </tr>\n",
       "    <tr>\n",
       "      <th>...</th>\n",
       "      <td>...</td>\n",
       "      <td>...</td>\n",
       "      <td>...</td>\n",
       "      <td>...</td>\n",
       "      <td>...</td>\n",
       "      <td>...</td>\n",
       "      <td>...</td>\n",
       "      <td>...</td>\n",
       "      <td>...</td>\n",
       "      <td>...</td>\n",
       "      <td>...</td>\n",
       "      <td>...</td>\n",
       "      <td>...</td>\n",
       "      <td>...</td>\n",
       "      <td>...</td>\n",
       "      <td>...</td>\n",
       "      <td>...</td>\n",
       "      <td>...</td>\n",
       "      <td>...</td>\n",
       "      <td>...</td>\n",
       "      <td>...</td>\n",
       "    </tr>\n",
       "    <tr>\n",
       "      <th>9460</th>\n",
       "      <td>False</td>\n",
       "      <td>False</td>\n",
       "      <td>False</td>\n",
       "      <td>False</td>\n",
       "      <td>False</td>\n",
       "      <td>False</td>\n",
       "      <td>False</td>\n",
       "      <td>False</td>\n",
       "      <td>False</td>\n",
       "      <td>False</td>\n",
       "      <td>...</td>\n",
       "      <td>False</td>\n",
       "      <td>False</td>\n",
       "      <td>False</td>\n",
       "      <td>False</td>\n",
       "      <td>False</td>\n",
       "      <td>False</td>\n",
       "      <td>False</td>\n",
       "      <td>False</td>\n",
       "      <td>False</td>\n",
       "      <td>False</td>\n",
       "    </tr>\n",
       "    <tr>\n",
       "      <th>9461</th>\n",
       "      <td>False</td>\n",
       "      <td>False</td>\n",
       "      <td>False</td>\n",
       "      <td>False</td>\n",
       "      <td>False</td>\n",
       "      <td>False</td>\n",
       "      <td>False</td>\n",
       "      <td>False</td>\n",
       "      <td>False</td>\n",
       "      <td>False</td>\n",
       "      <td>...</td>\n",
       "      <td>False</td>\n",
       "      <td>False</td>\n",
       "      <td>False</td>\n",
       "      <td>False</td>\n",
       "      <td>True</td>\n",
       "      <td>False</td>\n",
       "      <td>False</td>\n",
       "      <td>False</td>\n",
       "      <td>False</td>\n",
       "      <td>False</td>\n",
       "    </tr>\n",
       "    <tr>\n",
       "      <th>9462</th>\n",
       "      <td>False</td>\n",
       "      <td>False</td>\n",
       "      <td>False</td>\n",
       "      <td>False</td>\n",
       "      <td>False</td>\n",
       "      <td>False</td>\n",
       "      <td>False</td>\n",
       "      <td>False</td>\n",
       "      <td>False</td>\n",
       "      <td>False</td>\n",
       "      <td>...</td>\n",
       "      <td>False</td>\n",
       "      <td>False</td>\n",
       "      <td>False</td>\n",
       "      <td>False</td>\n",
       "      <td>False</td>\n",
       "      <td>False</td>\n",
       "      <td>False</td>\n",
       "      <td>False</td>\n",
       "      <td>False</td>\n",
       "      <td>False</td>\n",
       "    </tr>\n",
       "    <tr>\n",
       "      <th>9463</th>\n",
       "      <td>False</td>\n",
       "      <td>False</td>\n",
       "      <td>False</td>\n",
       "      <td>False</td>\n",
       "      <td>False</td>\n",
       "      <td>False</td>\n",
       "      <td>False</td>\n",
       "      <td>False</td>\n",
       "      <td>False</td>\n",
       "      <td>False</td>\n",
       "      <td>...</td>\n",
       "      <td>False</td>\n",
       "      <td>False</td>\n",
       "      <td>False</td>\n",
       "      <td>False</td>\n",
       "      <td>False</td>\n",
       "      <td>False</td>\n",
       "      <td>False</td>\n",
       "      <td>False</td>\n",
       "      <td>False</td>\n",
       "      <td>False</td>\n",
       "    </tr>\n",
       "    <tr>\n",
       "      <th>9464</th>\n",
       "      <td>False</td>\n",
       "      <td>False</td>\n",
       "      <td>False</td>\n",
       "      <td>False</td>\n",
       "      <td>False</td>\n",
       "      <td>False</td>\n",
       "      <td>False</td>\n",
       "      <td>False</td>\n",
       "      <td>False</td>\n",
       "      <td>False</td>\n",
       "      <td>...</td>\n",
       "      <td>False</td>\n",
       "      <td>False</td>\n",
       "      <td>False</td>\n",
       "      <td>False</td>\n",
       "      <td>False</td>\n",
       "      <td>False</td>\n",
       "      <td>False</td>\n",
       "      <td>False</td>\n",
       "      <td>False</td>\n",
       "      <td>False</td>\n",
       "    </tr>\n",
       "  </tbody>\n",
       "</table>\n",
       "<p>9465 rows × 94 columns</p>\n",
       "</div>"
      ],
      "text/plain": [
       "      Adjustment  Afternoon with the baker  Alfajores  Argentina Night  \\\n",
       "0          False                     False      False            False   \n",
       "1          False                     False      False            False   \n",
       "2          False                     False      False            False   \n",
       "3          False                     False      False            False   \n",
       "4          False                     False      False            False   \n",
       "...          ...                       ...        ...              ...   \n",
       "9460       False                     False      False            False   \n",
       "9461       False                     False      False            False   \n",
       "9462       False                     False      False            False   \n",
       "9463       False                     False      False            False   \n",
       "9464       False                     False      False            False   \n",
       "\n",
       "      Art Tray  Bacon  Baguette  Bakewell  Bare Popcorn  Basket  ...  \\\n",
       "0        False  False     False     False         False   False  ...   \n",
       "1        False  False     False     False         False   False  ...   \n",
       "2        False  False     False     False         False   False  ...   \n",
       "3        False  False     False     False         False   False  ...   \n",
       "4        False  False     False     False         False   False  ...   \n",
       "...        ...    ...       ...       ...           ...     ...  ...   \n",
       "9460     False  False     False     False         False   False  ...   \n",
       "9461     False  False     False     False         False   False  ...   \n",
       "9462     False  False     False     False         False   False  ...   \n",
       "9463     False  False     False     False         False   False  ...   \n",
       "9464     False  False     False     False         False   False  ...   \n",
       "\n",
       "      The BART  The Nomad  Tiffin  Toast  Truffles  Tshirt  Valentine's card  \\\n",
       "0        False      False   False  False     False   False             False   \n",
       "1        False      False   False  False     False   False             False   \n",
       "2        False      False   False  False     False   False             False   \n",
       "3        False      False   False  False     False   False             False   \n",
       "4        False      False   False  False     False   False             False   \n",
       "...        ...        ...     ...    ...       ...     ...               ...   \n",
       "9460     False      False   False  False     False   False             False   \n",
       "9461     False      False   False  False      True   False             False   \n",
       "9462     False      False   False  False     False   False             False   \n",
       "9463     False      False   False  False     False   False             False   \n",
       "9464     False      False   False  False     False   False             False   \n",
       "\n",
       "      Vegan Feast  Vegan mincepie  Victorian Sponge  \n",
       "0           False           False             False  \n",
       "1           False           False             False  \n",
       "2           False           False             False  \n",
       "3           False           False             False  \n",
       "4           False           False             False  \n",
       "...           ...             ...               ...  \n",
       "9460        False           False             False  \n",
       "9461        False           False             False  \n",
       "9462        False           False             False  \n",
       "9463        False           False             False  \n",
       "9464        False           False             False  \n",
       "\n",
       "[9465 rows x 94 columns]"
      ]
     },
     "execution_count": 13,
     "metadata": {},
     "output_type": "execute_result"
    }
   ],
   "source": [
    "#transformo alista acima de array para um dataframe\n",
    "transacao_transformada = pd.DataFrame(transacao_te, columns = te.columns_)\n",
    "transacao_transformada"
   ]
  },
  {
   "cell_type": "markdown",
   "id": "d994ba8f",
   "metadata": {},
   "source": [
    "# Algoritimo APRIORI"
   ]
  },
  {
   "cell_type": "code",
   "execution_count": 14,
   "id": "725806e7",
   "metadata": {},
   "outputs": [],
   "source": [
    "#carregamento da libs para suporte\n",
    "from mlxtend.frequent_patterns import apriori"
   ]
  },
  {
   "cell_type": "code",
   "execution_count": 15,
   "id": "f88b5f47",
   "metadata": {},
   "outputs": [
    {
     "data": {
      "text/html": [
       "<div>\n",
       "<style scoped>\n",
       "    .dataframe tbody tr th:only-of-type {\n",
       "        vertical-align: middle;\n",
       "    }\n",
       "\n",
       "    .dataframe tbody tr th {\n",
       "        vertical-align: top;\n",
       "    }\n",
       "\n",
       "    .dataframe thead th {\n",
       "        text-align: right;\n",
       "    }\n",
       "</style>\n",
       "<table border=\"1\" class=\"dataframe\">\n",
       "  <thead>\n",
       "    <tr style=\"text-align: right;\">\n",
       "      <th></th>\n",
       "      <th>support</th>\n",
       "      <th>itemsets</th>\n",
       "    </tr>\n",
       "  </thead>\n",
       "  <tbody>\n",
       "    <tr>\n",
       "      <th>4</th>\n",
       "      <td>0.478394</td>\n",
       "      <td>(Coffee)</td>\n",
       "    </tr>\n",
       "    <tr>\n",
       "      <th>1</th>\n",
       "      <td>0.327205</td>\n",
       "      <td>(Bread)</td>\n",
       "    </tr>\n",
       "    <tr>\n",
       "      <th>16</th>\n",
       "      <td>0.142631</td>\n",
       "      <td>(Tea)</td>\n",
       "    </tr>\n",
       "    <tr>\n",
       "      <th>3</th>\n",
       "      <td>0.103856</td>\n",
       "      <td>(Cake)</td>\n",
       "    </tr>\n",
       "    <tr>\n",
       "      <th>20</th>\n",
       "      <td>0.090016</td>\n",
       "      <td>(Bread, Coffee)</td>\n",
       "    </tr>\n",
       "    <tr>\n",
       "      <th>11</th>\n",
       "      <td>0.086107</td>\n",
       "      <td>(Pastry)</td>\n",
       "    </tr>\n",
       "    <tr>\n",
       "      <th>12</th>\n",
       "      <td>0.071844</td>\n",
       "      <td>(Sandwich)</td>\n",
       "    </tr>\n",
       "    <tr>\n",
       "      <th>9</th>\n",
       "      <td>0.061807</td>\n",
       "      <td>(Medialuna)</td>\n",
       "    </tr>\n",
       "    <tr>\n",
       "      <th>7</th>\n",
       "      <td>0.058320</td>\n",
       "      <td>(Hot chocolate)</td>\n",
       "    </tr>\n",
       "    <tr>\n",
       "      <th>23</th>\n",
       "      <td>0.054728</td>\n",
       "      <td>(Cake, Coffee)</td>\n",
       "    </tr>\n",
       "    <tr>\n",
       "      <th>5</th>\n",
       "      <td>0.054411</td>\n",
       "      <td>(Cookies)</td>\n",
       "    </tr>\n",
       "    <tr>\n",
       "      <th>31</th>\n",
       "      <td>0.049868</td>\n",
       "      <td>(Coffee, Tea)</td>\n",
       "    </tr>\n",
       "    <tr>\n",
       "      <th>29</th>\n",
       "      <td>0.047544</td>\n",
       "      <td>(Pastry, Coffee)</td>\n",
       "    </tr>\n",
       "    <tr>\n",
       "      <th>2</th>\n",
       "      <td>0.040042</td>\n",
       "      <td>(Brownie)</td>\n",
       "    </tr>\n",
       "    <tr>\n",
       "      <th>6</th>\n",
       "      <td>0.039197</td>\n",
       "      <td>(Farm House)</td>\n",
       "    </tr>\n",
       "    <tr>\n",
       "      <th>8</th>\n",
       "      <td>0.038563</td>\n",
       "      <td>(Juice)</td>\n",
       "    </tr>\n",
       "    <tr>\n",
       "      <th>10</th>\n",
       "      <td>0.038457</td>\n",
       "      <td>(Muffin)</td>\n",
       "    </tr>\n",
       "    <tr>\n",
       "      <th>30</th>\n",
       "      <td>0.038246</td>\n",
       "      <td>(Sandwich, Coffee)</td>\n",
       "    </tr>\n",
       "    <tr>\n",
       "      <th>0</th>\n",
       "      <td>0.036344</td>\n",
       "      <td>(Alfajores)</td>\n",
       "    </tr>\n",
       "    <tr>\n",
       "      <th>28</th>\n",
       "      <td>0.035182</td>\n",
       "      <td>(Coffee, Medialuna)</td>\n",
       "    </tr>\n",
       "    <tr>\n",
       "      <th>14</th>\n",
       "      <td>0.034548</td>\n",
       "      <td>(Scone)</td>\n",
       "    </tr>\n",
       "    <tr>\n",
       "      <th>15</th>\n",
       "      <td>0.034443</td>\n",
       "      <td>(Soup)</td>\n",
       "    </tr>\n",
       "    <tr>\n",
       "      <th>17</th>\n",
       "      <td>0.033597</td>\n",
       "      <td>(Toast)</td>\n",
       "    </tr>\n",
       "    <tr>\n",
       "      <th>26</th>\n",
       "      <td>0.029583</td>\n",
       "      <td>(Hot chocolate, Coffee)</td>\n",
       "    </tr>\n",
       "    <tr>\n",
       "      <th>21</th>\n",
       "      <td>0.029160</td>\n",
       "      <td>(Bread, Pastry)</td>\n",
       "    </tr>\n",
       "    <tr>\n",
       "      <th>13</th>\n",
       "      <td>0.029054</td>\n",
       "      <td>(Scandinavian)</td>\n",
       "    </tr>\n",
       "    <tr>\n",
       "      <th>25</th>\n",
       "      <td>0.028209</td>\n",
       "      <td>(Cookies, Coffee)</td>\n",
       "    </tr>\n",
       "    <tr>\n",
       "      <th>22</th>\n",
       "      <td>0.028104</td>\n",
       "      <td>(Bread, Tea)</td>\n",
       "    </tr>\n",
       "    <tr>\n",
       "      <th>24</th>\n",
       "      <td>0.023772</td>\n",
       "      <td>(Cake, Tea)</td>\n",
       "    </tr>\n",
       "    <tr>\n",
       "      <th>32</th>\n",
       "      <td>0.023666</td>\n",
       "      <td>(Coffee, Toast)</td>\n",
       "    </tr>\n",
       "    <tr>\n",
       "      <th>19</th>\n",
       "      <td>0.023349</td>\n",
       "      <td>(Bread, Cake)</td>\n",
       "    </tr>\n",
       "    <tr>\n",
       "      <th>27</th>\n",
       "      <td>0.020602</td>\n",
       "      <td>(Juice, Coffee)</td>\n",
       "    </tr>\n",
       "    <tr>\n",
       "      <th>18</th>\n",
       "      <td>0.020285</td>\n",
       "      <td>(Truffles)</td>\n",
       "    </tr>\n",
       "  </tbody>\n",
       "</table>\n",
       "</div>"
      ],
      "text/plain": [
       "     support                 itemsets\n",
       "4   0.478394                 (Coffee)\n",
       "1   0.327205                  (Bread)\n",
       "16  0.142631                    (Tea)\n",
       "3   0.103856                   (Cake)\n",
       "20  0.090016          (Bread, Coffee)\n",
       "11  0.086107                 (Pastry)\n",
       "12  0.071844               (Sandwich)\n",
       "9   0.061807              (Medialuna)\n",
       "7   0.058320          (Hot chocolate)\n",
       "23  0.054728           (Cake, Coffee)\n",
       "5   0.054411                (Cookies)\n",
       "31  0.049868            (Coffee, Tea)\n",
       "29  0.047544         (Pastry, Coffee)\n",
       "2   0.040042                (Brownie)\n",
       "6   0.039197             (Farm House)\n",
       "8   0.038563                  (Juice)\n",
       "10  0.038457                 (Muffin)\n",
       "30  0.038246       (Sandwich, Coffee)\n",
       "0   0.036344              (Alfajores)\n",
       "28  0.035182      (Coffee, Medialuna)\n",
       "14  0.034548                  (Scone)\n",
       "15  0.034443                   (Soup)\n",
       "17  0.033597                  (Toast)\n",
       "26  0.029583  (Hot chocolate, Coffee)\n",
       "21  0.029160          (Bread, Pastry)\n",
       "13  0.029054           (Scandinavian)\n",
       "25  0.028209        (Cookies, Coffee)\n",
       "22  0.028104             (Bread, Tea)\n",
       "24  0.023772              (Cake, Tea)\n",
       "32  0.023666          (Coffee, Toast)\n",
       "19  0.023349            (Bread, Cake)\n",
       "27  0.020602          (Juice, Coffee)\n",
       "18  0.020285               (Truffles)"
      ]
     },
     "execution_count": 15,
     "metadata": {},
     "output_type": "execute_result"
    }
   ],
   "source": [
    "#nessa etapa eu faço a separação dos conjuntos frequentes \n",
    "#suporte minimo como 0.032\n",
    "# e já classfico para os dados aparecer em ordem crescente\n",
    "\n",
    "\n",
    "items_frequentes_apriori = apriori(transacao_transformada, use_colnames=True, min_support=0.02)\n",
    "items_frequentes_apriori.sort_values(['support'], ascending=False)"
   ]
  },
  {
   "cell_type": "code",
   "execution_count": 16,
   "id": "22734720",
   "metadata": {},
   "outputs": [],
   "source": [
    "#carregamento da libs para regras de associacao\n",
    "from mlxtend.frequent_patterns import association_rules"
   ]
  },
  {
   "cell_type": "code",
   "execution_count": 17,
   "id": "700f00ef",
   "metadata": {},
   "outputs": [
    {
     "data": {
      "text/html": [
       "<div>\n",
       "<style scoped>\n",
       "    .dataframe tbody tr th:only-of-type {\n",
       "        vertical-align: middle;\n",
       "    }\n",
       "\n",
       "    .dataframe tbody tr th {\n",
       "        vertical-align: top;\n",
       "    }\n",
       "\n",
       "    .dataframe thead th {\n",
       "        text-align: right;\n",
       "    }\n",
       "</style>\n",
       "<table border=\"1\" class=\"dataframe\">\n",
       "  <thead>\n",
       "    <tr style=\"text-align: right;\">\n",
       "      <th></th>\n",
       "      <th>antecedents</th>\n",
       "      <th>consequents</th>\n",
       "      <th>antecedent support</th>\n",
       "      <th>consequent support</th>\n",
       "      <th>support</th>\n",
       "      <th>confidence</th>\n",
       "      <th>lift</th>\n",
       "      <th>leverage</th>\n",
       "      <th>conviction</th>\n",
       "    </tr>\n",
       "  </thead>\n",
       "  <tbody>\n",
       "    <tr>\n",
       "      <th>0</th>\n",
       "      <td>(Cake)</td>\n",
       "      <td>(Coffee)</td>\n",
       "      <td>0.103856</td>\n",
       "      <td>0.478394</td>\n",
       "      <td>0.054728</td>\n",
       "      <td>0.526958</td>\n",
       "      <td>1.101515</td>\n",
       "      <td>0.005044</td>\n",
       "      <td>1.102664</td>\n",
       "    </tr>\n",
       "    <tr>\n",
       "      <th>1</th>\n",
       "      <td>(Cookies)</td>\n",
       "      <td>(Coffee)</td>\n",
       "      <td>0.054411</td>\n",
       "      <td>0.478394</td>\n",
       "      <td>0.028209</td>\n",
       "      <td>0.518447</td>\n",
       "      <td>1.083723</td>\n",
       "      <td>0.002179</td>\n",
       "      <td>1.083174</td>\n",
       "    </tr>\n",
       "    <tr>\n",
       "      <th>2</th>\n",
       "      <td>(Hot chocolate)</td>\n",
       "      <td>(Coffee)</td>\n",
       "      <td>0.058320</td>\n",
       "      <td>0.478394</td>\n",
       "      <td>0.029583</td>\n",
       "      <td>0.507246</td>\n",
       "      <td>1.060311</td>\n",
       "      <td>0.001683</td>\n",
       "      <td>1.058553</td>\n",
       "    </tr>\n",
       "    <tr>\n",
       "      <th>3</th>\n",
       "      <td>(Juice)</td>\n",
       "      <td>(Coffee)</td>\n",
       "      <td>0.038563</td>\n",
       "      <td>0.478394</td>\n",
       "      <td>0.020602</td>\n",
       "      <td>0.534247</td>\n",
       "      <td>1.116750</td>\n",
       "      <td>0.002154</td>\n",
       "      <td>1.119919</td>\n",
       "    </tr>\n",
       "    <tr>\n",
       "      <th>4</th>\n",
       "      <td>(Medialuna)</td>\n",
       "      <td>(Coffee)</td>\n",
       "      <td>0.061807</td>\n",
       "      <td>0.478394</td>\n",
       "      <td>0.035182</td>\n",
       "      <td>0.569231</td>\n",
       "      <td>1.189878</td>\n",
       "      <td>0.005614</td>\n",
       "      <td>1.210871</td>\n",
       "    </tr>\n",
       "    <tr>\n",
       "      <th>5</th>\n",
       "      <td>(Pastry)</td>\n",
       "      <td>(Coffee)</td>\n",
       "      <td>0.086107</td>\n",
       "      <td>0.478394</td>\n",
       "      <td>0.047544</td>\n",
       "      <td>0.552147</td>\n",
       "      <td>1.154168</td>\n",
       "      <td>0.006351</td>\n",
       "      <td>1.164682</td>\n",
       "    </tr>\n",
       "    <tr>\n",
       "      <th>6</th>\n",
       "      <td>(Sandwich)</td>\n",
       "      <td>(Coffee)</td>\n",
       "      <td>0.071844</td>\n",
       "      <td>0.478394</td>\n",
       "      <td>0.038246</td>\n",
       "      <td>0.532353</td>\n",
       "      <td>1.112792</td>\n",
       "      <td>0.003877</td>\n",
       "      <td>1.115384</td>\n",
       "    </tr>\n",
       "    <tr>\n",
       "      <th>7</th>\n",
       "      <td>(Toast)</td>\n",
       "      <td>(Coffee)</td>\n",
       "      <td>0.033597</td>\n",
       "      <td>0.478394</td>\n",
       "      <td>0.023666</td>\n",
       "      <td>0.704403</td>\n",
       "      <td>1.472431</td>\n",
       "      <td>0.007593</td>\n",
       "      <td>1.764582</td>\n",
       "    </tr>\n",
       "  </tbody>\n",
       "</table>\n",
       "</div>"
      ],
      "text/plain": [
       "       antecedents consequents  antecedent support  consequent support  \\\n",
       "0           (Cake)    (Coffee)            0.103856            0.478394   \n",
       "1        (Cookies)    (Coffee)            0.054411            0.478394   \n",
       "2  (Hot chocolate)    (Coffee)            0.058320            0.478394   \n",
       "3          (Juice)    (Coffee)            0.038563            0.478394   \n",
       "4      (Medialuna)    (Coffee)            0.061807            0.478394   \n",
       "5         (Pastry)    (Coffee)            0.086107            0.478394   \n",
       "6       (Sandwich)    (Coffee)            0.071844            0.478394   \n",
       "7          (Toast)    (Coffee)            0.033597            0.478394   \n",
       "\n",
       "    support  confidence      lift  leverage  conviction  \n",
       "0  0.054728    0.526958  1.101515  0.005044    1.102664  \n",
       "1  0.028209    0.518447  1.083723  0.002179    1.083174  \n",
       "2  0.029583    0.507246  1.060311  0.001683    1.058553  \n",
       "3  0.020602    0.534247  1.116750  0.002154    1.119919  \n",
       "4  0.035182    0.569231  1.189878  0.005614    1.210871  \n",
       "5  0.047544    0.552147  1.154168  0.006351    1.164682  \n",
       "6  0.038246    0.532353  1.112792  0.003877    1.115384  \n",
       "7  0.023666    0.704403  1.472431  0.007593    1.764582  "
      ]
     },
     "execution_count": 17,
     "metadata": {},
     "output_type": "execute_result"
    }
   ],
   "source": [
    "#variavel para armazenar o conjunto de itens frequentes \n",
    "#metrica de destaque confiança com minimo de 0.5 isso significa que se estiver dentro de 0.5 já considero valida as informações\n",
    "\n",
    "#então nas minhas informações eu tenho antecedentes que o cliente compra e o consequente das compras também\n",
    "#isso inclui as metricas de suporte para essa analise\n",
    "\n",
    "regras_apriori = association_rules(items_frequentes_apriori, metric='confidence', min_threshold=0.5)\n",
    "regras_apriori"
   ]
  },
  {
   "cell_type": "markdown",
   "id": "f10203da",
   "metadata": {},
   "source": [
    "# Algoritmos de clusterização "
   ]
  },
  {
   "cell_type": "markdown",
   "id": "2f15d6e5",
   "metadata": {},
   "source": [
    "- para aplicar esse algoritimo irei me basear em outra base de dados \n",
    "____________________________________________________________________\n",
    "### Nesse ponto do projeto irei trabalhar com K-Means\n",
    "-K:Means:é um algoritmo que tenta encontrar um item especificado pelo usuário ou usuária de *clusters* \n",
    "-de gruposK grupos, que são representados por seus centroides. O que isso quer dizer? Quer dizer que é uma abordagem baseada em centroides"
   ]
  },
  {
   "cell_type": "code",
   "execution_count": 18,
   "id": "70144520",
   "metadata": {},
   "outputs": [
    {
     "data": {
      "text/html": [
       "<div>\n",
       "<style scoped>\n",
       "    .dataframe tbody tr th:only-of-type {\n",
       "        vertical-align: middle;\n",
       "    }\n",
       "\n",
       "    .dataframe tbody tr th {\n",
       "        vertical-align: top;\n",
       "    }\n",
       "\n",
       "    .dataframe thead th {\n",
       "        text-align: right;\n",
       "    }\n",
       "</style>\n",
       "<table border=\"1\" class=\"dataframe\">\n",
       "  <thead>\n",
       "    <tr style=\"text-align: right;\">\n",
       "      <th></th>\n",
       "      <th>Unnamed: 0</th>\n",
       "      <th>Area</th>\n",
       "      <th>Perimeter</th>\n",
       "      <th>MajorAxisLength</th>\n",
       "      <th>MinorAxisLength</th>\n",
       "      <th>AspectRation</th>\n",
       "      <th>Eccentricity</th>\n",
       "      <th>ConvexArea</th>\n",
       "      <th>EquivDiameter</th>\n",
       "      <th>Extent</th>\n",
       "      <th>Solidity</th>\n",
       "      <th>roundness</th>\n",
       "      <th>Compactness</th>\n",
       "      <th>ShapeFactor1</th>\n",
       "      <th>ShapeFactor2</th>\n",
       "      <th>ShapeFactor3</th>\n",
       "      <th>ShapeFactor4</th>\n",
       "    </tr>\n",
       "  </thead>\n",
       "  <tbody>\n",
       "    <tr>\n",
       "      <th>0</th>\n",
       "      <td>0</td>\n",
       "      <td>28395</td>\n",
       "      <td>610.291</td>\n",
       "      <td>208.178117</td>\n",
       "      <td>173.888747</td>\n",
       "      <td>1.197191</td>\n",
       "      <td>0.549812</td>\n",
       "      <td>28715</td>\n",
       "      <td>190.141097</td>\n",
       "      <td>0.763923</td>\n",
       "      <td>0.988856</td>\n",
       "      <td>0.958027</td>\n",
       "      <td>0.913358</td>\n",
       "      <td>0.007332</td>\n",
       "      <td>0.003147</td>\n",
       "      <td>0.834222</td>\n",
       "      <td>0.998724</td>\n",
       "    </tr>\n",
       "    <tr>\n",
       "      <th>1</th>\n",
       "      <td>1</td>\n",
       "      <td>28734</td>\n",
       "      <td>638.018</td>\n",
       "      <td>200.524796</td>\n",
       "      <td>182.734419</td>\n",
       "      <td>1.097356</td>\n",
       "      <td>0.411785</td>\n",
       "      <td>29172</td>\n",
       "      <td>191.272750</td>\n",
       "      <td>0.783968</td>\n",
       "      <td>0.984986</td>\n",
       "      <td>0.887034</td>\n",
       "      <td>0.953861</td>\n",
       "      <td>0.006979</td>\n",
       "      <td>0.003564</td>\n",
       "      <td>0.909851</td>\n",
       "      <td>0.998430</td>\n",
       "    </tr>\n",
       "    <tr>\n",
       "      <th>2</th>\n",
       "      <td>2</td>\n",
       "      <td>29380</td>\n",
       "      <td>624.110</td>\n",
       "      <td>212.826130</td>\n",
       "      <td>175.931143</td>\n",
       "      <td>1.209713</td>\n",
       "      <td>0.562727</td>\n",
       "      <td>29690</td>\n",
       "      <td>193.410904</td>\n",
       "      <td>0.778113</td>\n",
       "      <td>0.989559</td>\n",
       "      <td>0.947849</td>\n",
       "      <td>0.908774</td>\n",
       "      <td>0.007244</td>\n",
       "      <td>0.003048</td>\n",
       "      <td>0.825871</td>\n",
       "      <td>0.999066</td>\n",
       "    </tr>\n",
       "    <tr>\n",
       "      <th>3</th>\n",
       "      <td>3</td>\n",
       "      <td>30008</td>\n",
       "      <td>645.884</td>\n",
       "      <td>210.557999</td>\n",
       "      <td>182.516516</td>\n",
       "      <td>1.153638</td>\n",
       "      <td>0.498616</td>\n",
       "      <td>30724</td>\n",
       "      <td>195.467062</td>\n",
       "      <td>0.782681</td>\n",
       "      <td>0.976696</td>\n",
       "      <td>0.903936</td>\n",
       "      <td>0.928329</td>\n",
       "      <td>0.007017</td>\n",
       "      <td>0.003215</td>\n",
       "      <td>0.861794</td>\n",
       "      <td>0.994199</td>\n",
       "    </tr>\n",
       "    <tr>\n",
       "      <th>4</th>\n",
       "      <td>4</td>\n",
       "      <td>30140</td>\n",
       "      <td>620.134</td>\n",
       "      <td>201.847882</td>\n",
       "      <td>190.279279</td>\n",
       "      <td>1.060798</td>\n",
       "      <td>0.333680</td>\n",
       "      <td>30417</td>\n",
       "      <td>195.896503</td>\n",
       "      <td>0.773098</td>\n",
       "      <td>0.990893</td>\n",
       "      <td>0.984877</td>\n",
       "      <td>0.970516</td>\n",
       "      <td>0.006697</td>\n",
       "      <td>0.003665</td>\n",
       "      <td>0.941900</td>\n",
       "      <td>0.999166</td>\n",
       "    </tr>\n",
       "    <tr>\n",
       "      <th>...</th>\n",
       "      <td>...</td>\n",
       "      <td>...</td>\n",
       "      <td>...</td>\n",
       "      <td>...</td>\n",
       "      <td>...</td>\n",
       "      <td>...</td>\n",
       "      <td>...</td>\n",
       "      <td>...</td>\n",
       "      <td>...</td>\n",
       "      <td>...</td>\n",
       "      <td>...</td>\n",
       "      <td>...</td>\n",
       "      <td>...</td>\n",
       "      <td>...</td>\n",
       "      <td>...</td>\n",
       "      <td>...</td>\n",
       "      <td>...</td>\n",
       "    </tr>\n",
       "    <tr>\n",
       "      <th>13606</th>\n",
       "      <td>13606</td>\n",
       "      <td>42097</td>\n",
       "      <td>759.696</td>\n",
       "      <td>288.721612</td>\n",
       "      <td>185.944705</td>\n",
       "      <td>1.552728</td>\n",
       "      <td>0.765002</td>\n",
       "      <td>42508</td>\n",
       "      <td>231.515799</td>\n",
       "      <td>0.714574</td>\n",
       "      <td>0.990331</td>\n",
       "      <td>0.916603</td>\n",
       "      <td>0.801865</td>\n",
       "      <td>0.006858</td>\n",
       "      <td>0.001749</td>\n",
       "      <td>0.642988</td>\n",
       "      <td>0.998385</td>\n",
       "    </tr>\n",
       "    <tr>\n",
       "      <th>13607</th>\n",
       "      <td>13607</td>\n",
       "      <td>42101</td>\n",
       "      <td>757.499</td>\n",
       "      <td>281.576392</td>\n",
       "      <td>190.713136</td>\n",
       "      <td>1.476439</td>\n",
       "      <td>0.735702</td>\n",
       "      <td>42494</td>\n",
       "      <td>231.526798</td>\n",
       "      <td>0.799943</td>\n",
       "      <td>0.990752</td>\n",
       "      <td>0.922015</td>\n",
       "      <td>0.822252</td>\n",
       "      <td>0.006688</td>\n",
       "      <td>0.001886</td>\n",
       "      <td>0.676099</td>\n",
       "      <td>0.998219</td>\n",
       "    </tr>\n",
       "    <tr>\n",
       "      <th>13608</th>\n",
       "      <td>13608</td>\n",
       "      <td>42139</td>\n",
       "      <td>759.321</td>\n",
       "      <td>281.539928</td>\n",
       "      <td>191.187979</td>\n",
       "      <td>1.472582</td>\n",
       "      <td>0.734065</td>\n",
       "      <td>42569</td>\n",
       "      <td>231.631261</td>\n",
       "      <td>0.729932</td>\n",
       "      <td>0.989899</td>\n",
       "      <td>0.918424</td>\n",
       "      <td>0.822730</td>\n",
       "      <td>0.006681</td>\n",
       "      <td>0.001888</td>\n",
       "      <td>0.676884</td>\n",
       "      <td>0.996767</td>\n",
       "    </tr>\n",
       "    <tr>\n",
       "      <th>13609</th>\n",
       "      <td>13609</td>\n",
       "      <td>42147</td>\n",
       "      <td>763.779</td>\n",
       "      <td>283.382636</td>\n",
       "      <td>190.275731</td>\n",
       "      <td>1.489326</td>\n",
       "      <td>0.741055</td>\n",
       "      <td>42667</td>\n",
       "      <td>231.653248</td>\n",
       "      <td>0.705389</td>\n",
       "      <td>0.987813</td>\n",
       "      <td>0.907906</td>\n",
       "      <td>0.817457</td>\n",
       "      <td>0.006724</td>\n",
       "      <td>0.001852</td>\n",
       "      <td>0.668237</td>\n",
       "      <td>0.995222</td>\n",
       "    </tr>\n",
       "    <tr>\n",
       "      <th>13610</th>\n",
       "      <td>13610</td>\n",
       "      <td>42159</td>\n",
       "      <td>772.237</td>\n",
       "      <td>295.142741</td>\n",
       "      <td>182.204716</td>\n",
       "      <td>1.619841</td>\n",
       "      <td>0.786693</td>\n",
       "      <td>42600</td>\n",
       "      <td>231.686223</td>\n",
       "      <td>0.788962</td>\n",
       "      <td>0.989648</td>\n",
       "      <td>0.888380</td>\n",
       "      <td>0.784997</td>\n",
       "      <td>0.007001</td>\n",
       "      <td>0.001640</td>\n",
       "      <td>0.616221</td>\n",
       "      <td>0.998180</td>\n",
       "    </tr>\n",
       "  </tbody>\n",
       "</table>\n",
       "<p>13611 rows × 17 columns</p>\n",
       "</div>"
      ],
      "text/plain": [
       "       Unnamed: 0   Area  Perimeter  MajorAxisLength  MinorAxisLength  \\\n",
       "0               0  28395    610.291       208.178117       173.888747   \n",
       "1               1  28734    638.018       200.524796       182.734419   \n",
       "2               2  29380    624.110       212.826130       175.931143   \n",
       "3               3  30008    645.884       210.557999       182.516516   \n",
       "4               4  30140    620.134       201.847882       190.279279   \n",
       "...           ...    ...        ...              ...              ...   \n",
       "13606       13606  42097    759.696       288.721612       185.944705   \n",
       "13607       13607  42101    757.499       281.576392       190.713136   \n",
       "13608       13608  42139    759.321       281.539928       191.187979   \n",
       "13609       13609  42147    763.779       283.382636       190.275731   \n",
       "13610       13610  42159    772.237       295.142741       182.204716   \n",
       "\n",
       "       AspectRation  Eccentricity  ConvexArea  EquivDiameter    Extent  \\\n",
       "0          1.197191      0.549812       28715     190.141097  0.763923   \n",
       "1          1.097356      0.411785       29172     191.272750  0.783968   \n",
       "2          1.209713      0.562727       29690     193.410904  0.778113   \n",
       "3          1.153638      0.498616       30724     195.467062  0.782681   \n",
       "4          1.060798      0.333680       30417     195.896503  0.773098   \n",
       "...             ...           ...         ...            ...       ...   \n",
       "13606      1.552728      0.765002       42508     231.515799  0.714574   \n",
       "13607      1.476439      0.735702       42494     231.526798  0.799943   \n",
       "13608      1.472582      0.734065       42569     231.631261  0.729932   \n",
       "13609      1.489326      0.741055       42667     231.653248  0.705389   \n",
       "13610      1.619841      0.786693       42600     231.686223  0.788962   \n",
       "\n",
       "       Solidity  roundness  Compactness  ShapeFactor1  ShapeFactor2  \\\n",
       "0      0.988856   0.958027     0.913358      0.007332      0.003147   \n",
       "1      0.984986   0.887034     0.953861      0.006979      0.003564   \n",
       "2      0.989559   0.947849     0.908774      0.007244      0.003048   \n",
       "3      0.976696   0.903936     0.928329      0.007017      0.003215   \n",
       "4      0.990893   0.984877     0.970516      0.006697      0.003665   \n",
       "...         ...        ...          ...           ...           ...   \n",
       "13606  0.990331   0.916603     0.801865      0.006858      0.001749   \n",
       "13607  0.990752   0.922015     0.822252      0.006688      0.001886   \n",
       "13608  0.989899   0.918424     0.822730      0.006681      0.001888   \n",
       "13609  0.987813   0.907906     0.817457      0.006724      0.001852   \n",
       "13610  0.989648   0.888380     0.784997      0.007001      0.001640   \n",
       "\n",
       "       ShapeFactor3  ShapeFactor4  \n",
       "0          0.834222      0.998724  \n",
       "1          0.909851      0.998430  \n",
       "2          0.825871      0.999066  \n",
       "3          0.861794      0.994199  \n",
       "4          0.941900      0.999166  \n",
       "...             ...           ...  \n",
       "13606      0.642988      0.998385  \n",
       "13607      0.676099      0.998219  \n",
       "13608      0.676884      0.996767  \n",
       "13609      0.668237      0.995222  \n",
       "13610      0.616221      0.998180  \n",
       "\n",
       "[13611 rows x 17 columns]"
      ]
     },
     "execution_count": 18,
     "metadata": {},
     "output_type": "execute_result"
    }
   ],
   "source": [
    "dados_lab = pd.read_excel('dados_lab_feijao.xlsx')\n",
    "dados_lab"
   ]
  },
  {
   "cell_type": "code",
   "execution_count": 19,
   "id": "3b201993",
   "metadata": {},
   "outputs": [],
   "source": [
    "#excluo essa coluna que eu não vou usar\n",
    "dados_lab.drop(columns = 'Unnamed: 0', axis =1, inplace = True)"
   ]
  },
  {
   "cell_type": "code",
   "execution_count": 20,
   "id": "f4887c0a",
   "metadata": {},
   "outputs": [
    {
     "name": "stdout",
     "output_type": "stream",
     "text": [
      "<class 'pandas.core.frame.DataFrame'>\n",
      "RangeIndex: 13611 entries, 0 to 13610\n",
      "Data columns (total 16 columns):\n",
      " #   Column           Non-Null Count  Dtype  \n",
      "---  ------           --------------  -----  \n",
      " 0   Area             13611 non-null  int64  \n",
      " 1   Perimeter        13611 non-null  float64\n",
      " 2   MajorAxisLength  13611 non-null  float64\n",
      " 3   MinorAxisLength  13611 non-null  float64\n",
      " 4   AspectRation     13611 non-null  float64\n",
      " 5   Eccentricity     13611 non-null  float64\n",
      " 6   ConvexArea       13611 non-null  int64  \n",
      " 7   EquivDiameter    13611 non-null  float64\n",
      " 8   Extent           13611 non-null  float64\n",
      " 9   Solidity         13611 non-null  float64\n",
      " 10  roundness        13611 non-null  float64\n",
      " 11  Compactness      13611 non-null  float64\n",
      " 12  ShapeFactor1     13611 non-null  float64\n",
      " 13  ShapeFactor2     13611 non-null  float64\n",
      " 14  ShapeFactor3     13611 non-null  float64\n",
      " 15  ShapeFactor4     13611 non-null  float64\n",
      "dtypes: float64(14), int64(2)\n",
      "memory usage: 1.7 MB\n"
     ]
    }
   ],
   "source": [
    "dados_lab.info()"
   ]
  },
  {
   "cell_type": "markdown",
   "id": "ca9757fa",
   "metadata": {},
   "source": [
    "## Pre processamento de dados - K-Means"
   ]
  },
  {
   "cell_type": "code",
   "execution_count": 21,
   "id": "8a33600c",
   "metadata": {},
   "outputs": [
    {
     "data": {
      "text/plain": [
       "Index(['Area', 'Perimeter', 'MajorAxisLength', 'MinorAxisLength',\n",
       "       'AspectRation', 'Eccentricity', 'ConvexArea', 'EquivDiameter', 'Extent',\n",
       "       'Solidity', 'roundness', 'Compactness', 'ShapeFactor1', 'ShapeFactor2',\n",
       "       'ShapeFactor3', 'ShapeFactor4'],\n",
       "      dtype='object')"
      ]
     },
     "execution_count": 21,
     "metadata": {},
     "output_type": "execute_result"
    }
   ],
   "source": [
    "#identificando as colunas do meu dataset\n",
    "dados_lab.columns"
   ]
  },
  {
   "cell_type": "code",
   "execution_count": 22,
   "id": "9eada7be",
   "metadata": {},
   "outputs": [
    {
     "data": {
      "text/plain": [
       "array([[2.83950000e+04, 6.10291000e+02, 2.08178117e+02, ...,\n",
       "        3.14728917e-03, 8.34222388e-01, 9.98723889e-01],\n",
       "       [2.87340000e+04, 6.38018000e+02, 2.00524796e+02, ...,\n",
       "        3.56362371e-03, 9.09850506e-01, 9.98430331e-01],\n",
       "       [2.93800000e+04, 6.24110000e+02, 2.12826130e+02, ...,\n",
       "        3.04773322e-03, 8.25870617e-01, 9.99066137e-01],\n",
       "       ...,\n",
       "       [4.21390000e+04, 7.59321000e+02, 2.81539928e+02, ...,\n",
       "        1.88827064e-03, 6.76884164e-01, 9.96767264e-01],\n",
       "       [4.21470000e+04, 7.63779000e+02, 2.83382636e+02, ...,\n",
       "        1.85202548e-03, 6.68236684e-01, 9.95222420e-01],\n",
       "       [4.21590000e+04, 7.72237000e+02, 2.95142741e+02, ...,\n",
       "        1.63981171e-03, 6.16220592e-01, 9.98179623e-01]])"
      ]
     },
     "execution_count": 22,
     "metadata": {},
     "output_type": "execute_result"
    }
   ],
   "source": [
    "#incluir os dados em um array \n",
    "#modelo nao supervisionado faz apena entradas \n",
    "#um ponto é a observar que os dados não estão normalizados\n",
    "#vou usa o StandardScaler para normaliza os dados, para que todos estejam na mesma escala\n",
    "X = dados_lab.iloc[:, [0,1,2,3,4,5,6,7,8,9,10,11,12,13,14,15]].values\n",
    "X"
   ]
  },
  {
   "cell_type": "code",
   "execution_count": 23,
   "id": "35d8dbcf",
   "metadata": {},
   "outputs": [],
   "source": [
    "#pacote para normalizar os dados - colocar na mesma escala\n",
    "from sklearn.preprocessing import StandardScaler"
   ]
  },
  {
   "cell_type": "code",
   "execution_count": 24,
   "id": "1fb52cc1",
   "metadata": {},
   "outputs": [],
   "source": [
    "#instancio a variavel\n",
    "scaler = StandardScaler()"
   ]
  },
  {
   "cell_type": "code",
   "execution_count": 25,
   "id": "410059d4",
   "metadata": {},
   "outputs": [],
   "source": [
    "#abro uma variavel e faço a transformacao de X\n",
    "X_normalizado = scaler.fit_transform(X)"
   ]
  },
  {
   "cell_type": "code",
   "execution_count": 26,
   "id": "a8fbbaf8",
   "metadata": {},
   "outputs": [
    {
     "data": {
      "text/plain": [
       "array([[-0.84074853, -1.1433189 , -1.30659814, ...,  2.40217287,\n",
       "         1.92572347,  0.83837103],\n",
       "       [-0.82918764, -1.01392388, -1.39591111, ...,  3.10089314,\n",
       "         2.68970162,  0.77113842],\n",
       "       [-0.80715717, -1.07882906, -1.25235661, ...,  2.23509147,\n",
       "         1.84135576,  0.91675514],\n",
       "       ...,\n",
       "       [-0.37203825, -0.44783294, -0.45047814, ...,  0.28920441,\n",
       "         0.33632829,  0.39025114],\n",
       "       [-0.37176543, -0.42702856, -0.42897404, ...,  0.22837538,\n",
       "         0.2489734 ,  0.03644001],\n",
       "       [-0.37135619, -0.38755718, -0.2917356 , ..., -0.12777587,\n",
       "        -0.2764814 ,  0.71371948]])"
      ]
     },
     "execution_count": 26,
     "metadata": {},
     "output_type": "execute_result"
    }
   ],
   "source": [
    "#visualizo\n",
    "X_normalizado"
   ]
  },
  {
   "cell_type": "markdown",
   "id": "31590dbb",
   "metadata": {},
   "source": [
    "# Aplico o K-Means"
   ]
  },
  {
   "cell_type": "code",
   "execution_count": 27,
   "id": "65bc10bd",
   "metadata": {},
   "outputs": [],
   "source": [
    "from sklearn.cluster import KMeans"
   ]
  },
  {
   "cell_type": "code",
   "execution_count": 28,
   "id": "75ceaa14",
   "metadata": {},
   "outputs": [
    {
     "name": "stderr",
     "output_type": "stream",
     "text": [
      "C:\\Users\\patricia.sousa\\Anaconda4\\lib\\site-packages\\sklearn\\cluster\\_kmeans.py:870: FutureWarning: The default value of `n_init` will change from 10 to 'auto' in 1.4. Set the value of `n_init` explicitly to suppress the warning\n",
      "  warnings.warn(\n"
     ]
    }
   ],
   "source": [
    "#abro uma variavel. determino o numero de clusteres aqui 7\n",
    "#random_state com 42= escabilidade\n",
    "#transformo incluindo na variavel rotulos_kemans\n",
    "\n",
    "kmeans_dados = KMeans(n_clusters=7, random_state=42)\n",
    "rotulos_kmeans = kmeans_dados.fit_predict(X_normalizado)"
   ]
  },
  {
   "cell_type": "code",
   "execution_count": 29,
   "id": "e0f01b04",
   "metadata": {},
   "outputs": [
    {
     "data": {
      "text/plain": [
       "array([4, 4, 4, 4, 4])"
      ]
     },
     "execution_count": 29,
     "metadata": {},
     "output_type": "execute_result"
    }
   ],
   "source": [
    "#visualizacao da transformacao\n",
    "rotulos_kmeans[0:5]"
   ]
  },
  {
   "cell_type": "markdown",
   "id": "6071600b",
   "metadata": {},
   "source": [
    "## Uma maneira de confirmar se o número de clusteres que eu selecionei é o melhor para o modelo \n",
    "## é usar o metodo Método do cotovelo (Elbow method)\n",
    "#### métrica que pode calcular para definir qual a quantidade ideal de agrupamentos para os dados usado pela função Inertia\n",
    "#### inertia: soma das distâncias quadradas das amostras até o centro do cluster mais próximo, quanto menor for essa variação, melhor a quantidade de clusters a serem usados."
   ]
  },
  {
   "cell_type": "code",
   "execution_count": 30,
   "id": "cbb3b665",
   "metadata": {},
   "outputs": [
    {
     "name": "stderr",
     "output_type": "stream",
     "text": [
      "C:\\Users\\patricia.sousa\\Anaconda4\\lib\\site-packages\\sklearn\\cluster\\_kmeans.py:870: FutureWarning: The default value of `n_init` will change from 10 to 'auto' in 1.4. Set the value of `n_init` explicitly to suppress the warning\n",
      "  warnings.warn(\n",
      "C:\\Users\\patricia.sousa\\Anaconda4\\lib\\site-packages\\sklearn\\cluster\\_kmeans.py:870: FutureWarning: The default value of `n_init` will change from 10 to 'auto' in 1.4. Set the value of `n_init` explicitly to suppress the warning\n",
      "  warnings.warn(\n",
      "C:\\Users\\patricia.sousa\\Anaconda4\\lib\\site-packages\\sklearn\\cluster\\_kmeans.py:870: FutureWarning: The default value of `n_init` will change from 10 to 'auto' in 1.4. Set the value of `n_init` explicitly to suppress the warning\n",
      "  warnings.warn(\n",
      "C:\\Users\\patricia.sousa\\Anaconda4\\lib\\site-packages\\sklearn\\cluster\\_kmeans.py:870: FutureWarning: The default value of `n_init` will change from 10 to 'auto' in 1.4. Set the value of `n_init` explicitly to suppress the warning\n",
      "  warnings.warn(\n",
      "C:\\Users\\patricia.sousa\\Anaconda4\\lib\\site-packages\\sklearn\\cluster\\_kmeans.py:870: FutureWarning: The default value of `n_init` will change from 10 to 'auto' in 1.4. Set the value of `n_init` explicitly to suppress the warning\n",
      "  warnings.warn(\n",
      "C:\\Users\\patricia.sousa\\Anaconda4\\lib\\site-packages\\sklearn\\cluster\\_kmeans.py:870: FutureWarning: The default value of `n_init` will change from 10 to 'auto' in 1.4. Set the value of `n_init` explicitly to suppress the warning\n",
      "  warnings.warn(\n",
      "C:\\Users\\patricia.sousa\\Anaconda4\\lib\\site-packages\\sklearn\\cluster\\_kmeans.py:870: FutureWarning: The default value of `n_init` will change from 10 to 'auto' in 1.4. Set the value of `n_init` explicitly to suppress the warning\n",
      "  warnings.warn(\n",
      "C:\\Users\\patricia.sousa\\Anaconda4\\lib\\site-packages\\sklearn\\cluster\\_kmeans.py:870: FutureWarning: The default value of `n_init` will change from 10 to 'auto' in 1.4. Set the value of `n_init` explicitly to suppress the warning\n",
      "  warnings.warn(\n",
      "C:\\Users\\patricia.sousa\\Anaconda4\\lib\\site-packages\\sklearn\\cluster\\_kmeans.py:870: FutureWarning: The default value of `n_init` will change from 10 to 'auto' in 1.4. Set the value of `n_init` explicitly to suppress the warning\n",
      "  warnings.warn(\n",
      "C:\\Users\\patricia.sousa\\Anaconda4\\lib\\site-packages\\sklearn\\cluster\\_kmeans.py:870: FutureWarning: The default value of `n_init` will change from 10 to 'auto' in 1.4. Set the value of `n_init` explicitly to suppress the warning\n",
      "  warnings.warn(\n"
     ]
    }
   ],
   "source": [
    "#abro uma lista para incluir um for de 1 a 11\n",
    "#trago todos os clusteres com o rantomd_state igual ao modelo \n",
    "#transformo o modelo e adiciono a inertia\n",
    "wcss = []\n",
    "for i in range(1,11):\n",
    "  kmeans_dados_e = KMeans(n_clusters=i, random_state=42)\n",
    "  kmeans_dados_e.fit(X_normalizado)\n",
    "  wcss.append(kmeans_dados_e.inertia_)"
   ]
  },
  {
   "cell_type": "code",
   "execution_count": 31,
   "id": "09be273c",
   "metadata": {},
   "outputs": [
    {
     "data": {
      "image/png": "[encoded data removed]",
      "text/plain": [
       "<Figure size 432x288 with 1 Axes>"
      ]
     },
     "metadata": {
      "needs_background": "light"
     },
     "output_type": "display_data"
    }
   ],
   "source": [
    "#visualizando meu metodo \n",
    "plt.plot(range(1, 11), wcss) \n",
    "plt.xlabel('Número de clusters') \n",
    "plt.ylabel('WCSS') \n",
    "plt.show()"
   ]
  },
  {
   "cell_type": "markdown",
   "id": "2b14d37b",
   "metadata": {},
   "source": [
    "### Observando o grafico acima consigo perceber que talvez o número de clusteres \n",
    "### seria na media de 4 a 6,  o metodo é muito eficaz pois a ideia é quanto mais baixo é melhor\n",
    "### e o grafico tem uma curva acentuada, para visualizar exatamente o número de cluster ideal\n",
    "### vou visualiza os dados com a biblioteca yellowbrick"
   ]
  },
  {
   "cell_type": "code",
   "execution_count": 32,
   "id": "4ea46d27",
   "metadata": {},
   "outputs": [
    {
     "name": "stderr",
     "output_type": "stream",
     "text": [
      "C:\\Users\\patricia.sousa\\Anaconda4\\lib\\site-packages\\yellowbrick\\style\\colors.py:35: DeprecationWarning: distutils Version classes are deprecated. Use packaging.version instead.\n",
      "  mpl_ge_150 = LooseVersion(mpl.__version__) >= \"1.5.0\"\n",
      "C:\\Users\\patricia.sousa\\Anaconda4\\lib\\site-packages\\setuptools\\_distutils\\version.py:351: DeprecationWarning: distutils Version classes are deprecated. Use packaging.version instead.\n",
      "  other = LooseVersion(other)\n",
      "C:\\Users\\patricia.sousa\\Anaconda4\\lib\\site-packages\\yellowbrick\\style\\rcmod.py:31: DeprecationWarning: distutils Version classes are deprecated. Use packaging.version instead.\n",
      "  mpl_ge_150 = LooseVersion(mpl.__version__) >= \"1.5.0\"\n",
      "C:\\Users\\patricia.sousa\\Anaconda4\\lib\\site-packages\\setuptools\\_distutils\\version.py:351: DeprecationWarning: distutils Version classes are deprecated. Use packaging.version instead.\n",
      "  other = LooseVersion(other)\n"
     ]
    }
   ],
   "source": [
    "#import a biblioteca\n",
    "from yellowbrick.cluster import KElbowVisualizer"
   ]
  },
  {
   "cell_type": "code",
   "execution_count": 33,
   "id": "ebbcb544",
   "metadata": {},
   "outputs": [],
   "source": [
    "#instancio a funcao dentro de uma variavel\n",
    "kmeans_dados_elbow = KMeans(random_state=42)"
   ]
  },
  {
   "cell_type": "code",
   "execution_count": 34,
   "id": "8d9e2041",
   "metadata": {},
   "outputs": [
    {
     "name": "stderr",
     "output_type": "stream",
     "text": [
      "C:\\Users\\patricia.sousa\\Anaconda4\\lib\\site-packages\\sklearn\\cluster\\_kmeans.py:870: FutureWarning: The default value of `n_init` will change from 10 to 'auto' in 1.4. Set the value of `n_init` explicitly to suppress the warning\n",
      "  warnings.warn(\n",
      "C:\\Users\\patricia.sousa\\Anaconda4\\lib\\site-packages\\sklearn\\cluster\\_kmeans.py:870: FutureWarning: The default value of `n_init` will change from 10 to 'auto' in 1.4. Set the value of `n_init` explicitly to suppress the warning\n",
      "  warnings.warn(\n",
      "C:\\Users\\patricia.sousa\\Anaconda4\\lib\\site-packages\\sklearn\\cluster\\_kmeans.py:870: FutureWarning: The default value of `n_init` will change from 10 to 'auto' in 1.4. Set the value of `n_init` explicitly to suppress the warning\n",
      "  warnings.warn(\n",
      "C:\\Users\\patricia.sousa\\Anaconda4\\lib\\site-packages\\sklearn\\cluster\\_kmeans.py:870: FutureWarning: The default value of `n_init` will change from 10 to 'auto' in 1.4. Set the value of `n_init` explicitly to suppress the warning\n",
      "  warnings.warn(\n",
      "C:\\Users\\patricia.sousa\\Anaconda4\\lib\\site-packages\\sklearn\\cluster\\_kmeans.py:870: FutureWarning: The default value of `n_init` will change from 10 to 'auto' in 1.4. Set the value of `n_init` explicitly to suppress the warning\n",
      "  warnings.warn(\n",
      "C:\\Users\\patricia.sousa\\Anaconda4\\lib\\site-packages\\sklearn\\cluster\\_kmeans.py:870: FutureWarning: The default value of `n_init` will change from 10 to 'auto' in 1.4. Set the value of `n_init` explicitly to suppress the warning\n",
      "  warnings.warn(\n"
     ]
    },
    {
     "data": {
      "image/png": "[encoded data removed]",
      "text/plain": [
       "<Figure size 576x396 with 2 Axes>"
      ]
     },
     "metadata": {},
     "output_type": "display_data"
    },
    {
     "data": {
      "text/plain": [
       "<AxesSubplot:title={'center':'Distortion Score Elbow for KMeans Clustering'}, xlabel='k', ylabel='distortion score'>"
      ]
     },
     "execution_count": 34,
     "metadata": {},
     "output_type": "execute_result"
    }
   ],
   "source": [
    "#distorção: média das distâncias quadradas dos centros dos clusters dos respectivos clusters\n",
    "# trago a visualizacao com o padrao de 2 a 8 para a visualizacao ser de todo conjunto\n",
    "# e o resultado é 4 clusteres é o ideal para o modelo \n",
    "grafico = KElbowVisualizer(kmeans_dados_elbow, k=(2,8))\n",
    "grafico.fit(X_normalizado)        \n",
    "grafico.show() "
   ]
  },
  {
   "cell_type": "code",
   "execution_count": 35,
   "id": "429dc906",
   "metadata": {},
   "outputs": [
    {
     "name": "stderr",
     "output_type": "stream",
     "text": [
      "C:\\Users\\patricia.sousa\\Anaconda4\\lib\\site-packages\\sklearn\\cluster\\_kmeans.py:870: FutureWarning: The default value of `n_init` will change from 10 to 'auto' in 1.4. Set the value of `n_init` explicitly to suppress the warning\n",
      "  warnings.warn(\n"
     ]
    }
   ],
   "source": [
    "#rodar novamente o modelo com cluster 4\n",
    "kmeans_dados_final = KMeans(n_clusters = 4, random_state=42)\n",
    "rotulos_kmeans_final = kmeans_dados_final.fit_predict(X_normalizado)"
   ]
  },
  {
   "cell_type": "code",
   "execution_count": 36,
   "id": "34fd0c39",
   "metadata": {},
   "outputs": [
    {
     "data": {
      "image/png": "[encoded data removed]",
      "text/plain": [
       "<Figure size 648x432 with 1 Axes>"
      ]
     },
     "metadata": {},
     "output_type": "display_data"
    }
   ],
   "source": [
    "#visualizacao do modelo \n",
    "#aqui o design do meu grafico \n",
    "sns.set(style='white', rc={'figure.figsize':(9,6)},font_scale=1.1)\n",
    "\n",
    "#plot dos agrupamentos\n",
    "plt.scatter(x=X_normalizado[:,0], y=X_normalizado[:, 2], c=rotulos_kmeans_final, cmap='winter')\n",
    "\n",
    "#plot dos centroides\n",
    "plt.scatter(kmeans_dados_final.cluster_centers_[:, 0], \n",
    "            kmeans_dados_final.cluster_centers_[:, 2], \n",
    "            s=100,                             \n",
    "            c='red') \n",
    "\n",
    "plt.title('Dados Agrupados com K-means',fontweight='bold')\n",
    "plt.show()\n",
    "\n",
    "\n",
    "#conclusao que eu tenho 4 clusteres onde dois deles são muito relacionados \n",
    "#azul escuro e verde escurto"
   ]
  },
  {
   "cell_type": "markdown",
   "id": "7a8be011",
   "metadata": {},
   "source": [
    "## Análise de Agrupamento com outros modelos "
   ]
  },
  {
   "cell_type": "markdown",
   "id": "a0d48629",
   "metadata": {},
   "source": [
    "## Mean Shift"
   ]
  },
  {
   "cell_type": "markdown",
   "id": "26d52b69",
   "metadata": {},
   "source": [
    "- Mean Shift: é um método iterativo simples que desloca da centroide para ser a média dos pontos de dados em uma determinada região\n",
    "- A partir de um ponto aleatório, se inicializar e vai deslocar todo esse centroide pela região desses pontos até identificar\n",
    "- a área com maior densidade.posso dizer que ele será deslocado até um ponto de máxima densidade\n",
    "- Quer dizer que é uma área de concentração, uma grande concentração de ponto"
   ]
  },
  {
   "cell_type": "code",
   "execution_count": 37,
   "id": "9ae4d631",
   "metadata": {},
   "outputs": [],
   "source": [
    "#import a lib, essa biblioteca estimula area de interesse dos dados\n",
    "from sklearn.cluster import MeanShift, estimate_bandwidth"
   ]
  },
  {
   "cell_type": "code",
   "execution_count": 38,
   "id": "d955de9d",
   "metadata": {},
   "outputs": [],
   "source": [
    "#instancio a funcao em uma variavel\n",
    "bw = estimate_bandwidth(X_normalizado)"
   ]
  },
  {
   "cell_type": "code",
   "execution_count": null,
   "id": "63184bf4",
   "metadata": {},
   "outputs": [],
   "source": [
    "#aplico a transformação nos dados normalizadoos\n",
    "meanshift_dados = MeanShift(bandwidth=bw).fit(X_normalizado)"
   ]
  },
  {
   "cell_type": "code",
   "execution_count": null,
   "id": "20aab21d",
   "metadata": {},
   "outputs": [],
   "source": [
    "#abro uma variavel para identificar as labels que foram identificadas\n",
    "# e um variavel para identificar os dados numeros dentro do metodo\n",
    "rotulos_meanshift = meanshift_dados.labels_\n",
    "numero_rotulos = len(np.unique(rotulos_meanshift))\n",
    "numero_rotulos"
   ]
  },
  {
   "cell_type": "code",
   "execution_count": null,
   "id": "083d95a7",
   "metadata": {},
   "outputs": [],
   "source": [
    "#observa a clusterizacao desses centroides\n",
    "cluster_centers = meanshift_dados.cluster_centers_\n",
    "cluster_centers    "
   ]
  },
  {
   "cell_type": "code",
   "execution_count": null,
   "id": "16cc4ae7",
   "metadata": {},
   "outputs": [],
   "source": [
    "#visualizacao do modelo \n",
    "#aqui o design do meu grafico\n",
    "sns.set(style='white', rc={'figure.figsize':(9,6)},font_scale=1.1)\n",
    "\n",
    "#plot dos agrupamentos\n",
    "plt.scatter(x=X_normalizado[:,0], y=X_normalizado[:, 1], c=rotulos_meanshift, cmap='winter')\n",
    "\n",
    "#plot dos centroides\n",
    "plt.scatter(meanshift_dados.cluster_centers_[:, 0], \n",
    "            meanshift_dados.cluster_centers_[:, 1], \n",
    "            s=100,                             \n",
    "            c='red') \n",
    "\n",
    "plt.title('Dados Agrupados com MeanShift',fontweight='bold')\n",
    "plt.show()"
   ]
  },
  {
   "cell_type": "markdown",
   "id": "183618a1",
   "metadata": {},
   "source": [
    "## DBSCAN"
   ]
  },
  {
   "cell_type": "markdown",
   "id": "b115904c",
   "metadata": {},
   "source": [
    "- Método de clusterização DBScan é baseado em densidade, sendo utilizado para encontrar clusters em um conjunto\n",
    "- Diferença entre DBSCAN e Mean Shift:  No Mean Shift cada centroide é considerado um ponto aleatorio, uma media entre os pontos\n",
    "- já no DBSCAN considera o raio da região passando por todos os pontos, porque todos são centroides\n",
    "- curiosidade: No Mean Shift eu faço a selecao de quantos clusteres, no DBSCAN é épsilon"
   ]
  },
  {
   "cell_type": "code",
   "execution_count": null,
   "id": "3c7a1758",
   "metadata": {},
   "outputs": [],
   "source": [
    "#chamo a libs\n",
    "from sklearn.cluster import DBSCAN"
   ]
  },
  {
   "cell_type": "code",
   "execution_count": null,
   "id": "61fd94e2",
   "metadata": {},
   "outputs": [],
   "source": [
    "#realizar varios testes com os parametros `eps` e `min_samples`\n",
    "dbscan = DBSCAN(eps=1.20, min_samples=2)"
   ]
  },
  {
   "cell_type": "code",
   "execution_count": null,
   "id": "3d5cc3a7",
   "metadata": {},
   "outputs": [],
   "source": [
    "#transformar os dados \n",
    "dbscan_dados = dbscan.fit(X_normalizado)"
   ]
  },
  {
   "cell_type": "code",
   "execution_count": null,
   "id": "3f1933b0",
   "metadata": {},
   "outputs": [],
   "source": [
    "# observo os rotulos que ele transformou\n",
    "rotulos_dbscan = dbscan_dados.labels_\n",
    "rotulos_dbscan"
   ]
  },
  {
   "cell_type": "code",
   "execution_count": null,
   "id": "65fff1dd",
   "metadata": {},
   "outputs": [],
   "source": [
    "#visualizacao do modelo \n",
    "#aqui o design do meu grafico \n",
    "sns.set(style='white', rc={'figure.figsize':(9,6)},font_scale=1.1)\n",
    "\n",
    "#plot dos agrupamentos\n",
    "plt.scatter(x=X_normalizado[:,0], y=X_normalizado[:, 1], c=rotulos_dbscan, cmap='viridis')\n",
    "\n",
    "plt.title('Dados Agrupados com DBSCAN',fontweight='bold')\n",
    "plt.show()"
   ]
  },
  {
   "cell_type": "markdown",
   "id": "169b565e",
   "metadata": {},
   "source": [
    "## Redução de Dimensionalidade"
   ]
  },
  {
   "cell_type": "markdown",
   "id": "379b6a32",
   "metadata": {},
   "source": [
    "- A Análise de Componentes Principais (PCA) é uma técnica estatística não paramétrica e não supervisionada usada principalmente para redução de dimensionalidade em aprendizado de máquina.\n",
    "- Isso serve nas situações onde eu tenho muitas dimensões de dados, muito esparsos e na acurácia também no modelo supervisionado e não supervisionado, então de modo geral a \n",
    "- Redução de dimensionalidade ou PCA, reduzi a quantidade de dimensões para um pequeno subconjunto que capture a maior parte da variação dos dados"
   ]
  },
  {
   "cell_type": "code",
   "execution_count": null,
   "id": "704fa111",
   "metadata": {},
   "outputs": [],
   "source": []
  },
  {
   "cell_type": "markdown",
   "id": "82c64424",
   "metadata": {},
   "source": [
    "## Preparacao dos dados para o PCA"
   ]
  },
  {
   "cell_type": "code",
   "execution_count": null,
   "id": "57c28a66",
   "metadata": {},
   "outputs": [],
   "source": [
    "#quero entender a correlacao dos dados\n",
    "correlacao = dados_lab.corr()\n",
    "correlacao"
   ]
  },
  {
   "cell_type": "code",
   "execution_count": null,
   "id": "851c4380",
   "metadata": {},
   "outputs": [],
   "source": [
    "#crio um mapa de calor com o mask para ficar mais clara as informações \n",
    "mask = np.zeros_like(correlacao)\n",
    "mask[np.triu_indices_from(mask)] = True\n",
    "with sns.axes_style(\"white\"):\n",
    "    f, ax = plt.subplots(figsize=(14, 10))\n",
    "    ax = sns.heatmap(correlacao, mask=mask, vmax=.3, square=True, annot=True)"
   ]
  },
  {
   "cell_type": "code",
   "execution_count": null,
   "id": "3e4cd8bd",
   "metadata": {},
   "outputs": [],
   "source": [
    "#import as libs\n",
    "from sklearn.decomposition import PCA"
   ]
  },
  {
   "cell_type": "code",
   "execution_count": null,
   "id": "c9d716e5",
   "metadata": {},
   "outputs": [],
   "source": [
    "#testar diferentes valores para o `n_components` -> por padrão irá testar todos os componentes se não especificar\n",
    "#instacionar a biblioteca\n",
    "pca = PCA()"
   ]
  },
  {
   "cell_type": "code",
   "execution_count": null,
   "id": "5353b197",
   "metadata": {},
   "outputs": [],
   "source": [
    "#transformo e aplico os meus dados \n",
    "pca_dados = pca.fit_transform(X_normalizado)"
   ]
  },
  {
   "cell_type": "code",
   "execution_count": null,
   "id": "d2b8d9bc",
   "metadata": {},
   "outputs": [],
   "source": [
    "#para sumprimir o uso de notações científicas\n",
    "np.set_printoptions(precision = 2, suppress = True)"
   ]
  },
  {
   "cell_type": "code",
   "execution_count": null,
   "id": "12a079ff",
   "metadata": {},
   "outputs": [],
   "source": [
    "#oara entender a explicacao das minhas variaveis\n",
    "pca.explained_variance_"
   ]
  },
  {
   "cell_type": "code",
   "execution_count": null,
   "id": "651aed0e",
   "metadata": {},
   "outputs": [],
   "source": [
    "#percentual da variancia explicada arredondo os resultados\n",
    "variancia_explicada = np.around(pca.explained_variance_ratio_, 2)*100\n",
    "variancia_explicada"
   ]
  },
  {
   "cell_type": "markdown",
   "id": "50f6590b",
   "metadata": {},
   "source": [
    "## Simulando PCA nos dados com 3 componentes"
   ]
  },
  {
   "cell_type": "code",
   "execution_count": null,
   "id": "93d7b489",
   "metadata": {},
   "outputs": [],
   "source": [
    "#utilizando 3 componentes que melhor explicam os dados\n",
    "#seleciono como 3 componentes para que a explicacao seja mais \n",
    "#facil quando ler os dados \n",
    "\n",
    "pca_2 = PCA(n_components=3)\n",
    "pca_dados_2 = pca_2.fit_transform(X_normalizado)"
   ]
  },
  {
   "cell_type": "code",
   "execution_count": null,
   "id": "dc0f7a35",
   "metadata": {},
   "outputs": [],
   "source": [
    "# uso o metodo do cotovelo(Elbow method) para entender se esse numero \n",
    "# de 3 componentes é o ideal para o meu modelo \n",
    "\n",
    "# No grafico ele sinaliza que o melhor numero é 4\n",
    "kmeans_dadospca_elbow = KMeans(random_state=42)\n",
    "\n",
    "grafico = KElbowVisualizer(kmeans_dadospca_elbow, k=(2,8))\n",
    "grafico.fit(pca_dados_2)        \n",
    "grafico.show() "
   ]
  },
  {
   "cell_type": "code",
   "execution_count": null,
   "id": "00e57701",
   "metadata": {},
   "outputs": [],
   "source": [
    "#aplico novamente a transaformacao no K-means agora com o \n",
    "# numero de compontentes ajustados para 4\n",
    "kmeans_dados_pca = KMeans(n_clusters=4, random_state=42)\n",
    "rotulos_kmeans_pca = kmeans_dados_pca.fit_predict(pca_dados_2)"
   ]
  },
  {
   "cell_type": "code",
   "execution_count": null,
   "id": "4238730d",
   "metadata": {},
   "outputs": [],
   "source": [
    "#visualizacao do modelo \n",
    "#aqui o design do meu grafico \n",
    "\n",
    "sns.set(style='white', rc={'figure.figsize':(9,6)}, font_scale=1.1)\n",
    "\n",
    "#agrupamento dos dados rotulados \n",
    "plt.scatter(x=pca_dados_2[:, 0], y=pca_dados_2[:, 1], c=rotulos_kmeans_pca, cmap='viridis')\n",
    "plt.xlabel(f'Principal Component 1 {variancia_explicada[0]}%')\n",
    "plt.ylabel(f'Principal Component 2 {variancia_explicada[1]}%')\n",
    "plt.title('Dados representados por 2 componentes principais', fontweight='bold')\n",
    "plt.show()"
   ]
  }
 ],
 "metadata": {
  "kernelspec": {
   "display_name": "Python 3 (ipykernel)",
   "language": "python",
   "name": "python3"
  },
  "language_info": {
   "codemirror_mode": {
    "name": "ipython",
    "version": 3
   },
   "file_extension": ".py",
   "mimetype": "text/x-python",
   "name": "python",
   "nbconvert_exporter": "python",
   "pygments_lexer": "ipython3",
   "version": "3.9.12"
  }
 },
 "nbformat": 4,
 "nbformat_minor": 5
}
